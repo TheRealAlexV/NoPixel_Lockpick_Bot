{
 "cells": [
  {
   "cell_type": "code",
   "execution_count": 3,
   "metadata": {},
   "outputs": [],
   "source": [
    "import cv2\n",
    "import numpy as np\n",
    "import matplotlib.pyplot as plt\n",
    "\n",
    "def nothing(x):\n",
    "    pass\n",
    "\n",
    "def hsv_calc():\n",
    "    cap = cv2.VideoCapture(0)\n",
    "    cv2.namedWindow(\"Trackbars\",)\n",
    "    cv2.createTrackbar(\"lh\",\"Trackbars\",0,179,nothing)\n",
    "    cv2.createTrackbar(\"ls\",\"Trackbars\",0,255,nothing)\n",
    "    cv2.createTrackbar(\"lv\",\"Trackbars\",0,255,nothing)\n",
    "    cv2.createTrackbar(\"uh\",\"Trackbars\",179,179,nothing)\n",
    "    cv2.createTrackbar(\"us\",\"Trackbars\",255,255,nothing)\n",
    "    cv2.createTrackbar(\"uv\",\"Trackbars\",255,255,nothing)\n",
    "    while True:\n",
    "        ret, frame = cap.read()\n",
    "        #frame = cv2.imread('candy.jpg')\n",
    "        height, width = frame.shape[:2]\n",
    "        #frame = cv2.resize(frame,(width/5, height/5), interpolation = cv2.INTER_CUBIC)\n",
    "        hsv = cv2.cvtColor(frame,cv2.COLOR_BGR2HSV)\n",
    "\n",
    "        lh = cv2.getTrackbarPos(\"lh\",\"Trackbars\")\n",
    "        ls = cv2.getTrackbarPos(\"ls\",\"Trackbars\")\n",
    "        lv = cv2.getTrackbarPos(\"lv\",\"Trackbars\")\n",
    "        uh = cv2.getTrackbarPos(\"uh\",\"Trackbars\")\n",
    "        us = cv2.getTrackbarPos(\"us\",\"Trackbars\")\n",
    "        uv = cv2.getTrackbarPos(\"uv\",\"Trackbars\")\n",
    "\n",
    "        l_blue = np.array([lh,ls,lv])\n",
    "        u_blue = np.array([uh,us,uv])\n",
    "        mask = cv2.inRange(hsv, l_blue, u_blue)\n",
    "        result = cv2.bitwise_or(frame,frame,mask=mask)\n",
    "\n",
    "        #cv2.imshow(\"frame\",frame)\n",
    "        cv2.imshow(\"mask\",mask)\n",
    "        cv2.imshow(\"result\",result)\n",
    "        key = cv2.waitKey(1)\n",
    "        if key == 27:\n",
    "            break\n",
    "    cap.release()\n",
    "    cv2.destroyAllWindows()\n",
    "\n",
    "hsv_calc()"
   ]
  },
  {
   "cell_type": "code",
   "execution_count": null,
   "metadata": {},
   "outputs": [],
   "source": []
  }
 ],
 "metadata": {
  "kernelspec": {
   "display_name": "Python 3",
   "language": "python",
   "name": "python3"
  },
  "language_info": {
   "codemirror_mode": {
    "name": "ipython",
    "version": 3
   },
   "file_extension": ".py",
   "mimetype": "text/x-python",
   "name": "python",
   "nbconvert_exporter": "python",
   "pygments_lexer": "ipython3",
   "version": "3.5.6"
  }
 },
 "nbformat": 4,
 "nbformat_minor": 2
}
